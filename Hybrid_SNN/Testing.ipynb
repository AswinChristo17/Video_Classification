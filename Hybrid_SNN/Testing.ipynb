{
 "cells": [
  {
   "cell_type": "code",
   "execution_count": 2,
   "metadata": {},
   "outputs": [
    {
     "name": "stderr",
     "output_type": "stream",
     "text": [
      "C:\\Users\\Aswin Christo\\AppData\\Roaming\\Python\\Python311\\site-packages\\torch\\utils\\_cxx_pytree.py:238: UserWarning: PyTree type <class 'norse.torch.utils.pytree.LIFParameters'> is a subclass of `collections.namedtuple`, which is already registered in the global namespace. Override it with custom flatten/unflatten functions in namespace 'torch'.\n",
      "  optree.register_pytree_node(\n",
      "C:\\Users\\Aswin Christo\\AppData\\Roaming\\Python\\Python311\\site-packages\\torch\\utils\\_cxx_pytree.py:238: UserWarning: PyTree type <class 'norse.torch.utils.pytree.LIFBoxParameters'> is a subclass of `collections.namedtuple`, which is already registered in the global namespace. Override it with custom flatten/unflatten functions in namespace 'torch'.\n",
      "  optree.register_pytree_node(\n",
      "C:\\Users\\Aswin Christo\\AppData\\Roaming\\Python\\Python311\\site-packages\\torchvision\\models\\_utils.py:208: UserWarning: The parameter 'pretrained' is deprecated since 0.13 and may be removed in the future, please use 'weights' instead.\n",
      "  warnings.warn(\n",
      "C:\\Users\\Aswin Christo\\AppData\\Roaming\\Python\\Python311\\site-packages\\torchvision\\models\\_utils.py:223: UserWarning: Arguments other than a weight enum or `None` for 'weights' are deprecated since 0.13 and may be removed in the future. The current behavior is equivalent to passing `weights=ResNet18_Weights.IMAGENET1K_V1`. You can also use `weights=ResNet18_Weights.DEFAULT` to get the most up-to-date weights.\n",
      "  warnings.warn(msg)\n"
     ]
    },
    {
     "name": "stdout",
     "output_type": "stream",
     "text": [
      "✅ Model Loaded Successfully! Ready for Inference.\n"
     ]
    },
    {
     "name": "stderr",
     "output_type": "stream",
     "text": [
      "C:\\Users\\Aswin Christo\\AppData\\Local\\Temp\\ipykernel_10284\\4204425478.py:46: FutureWarning: You are using `torch.load` with `weights_only=False` (the current default value), which uses the default pickle module implicitly. It is possible to construct malicious pickle data which will execute arbitrary code during unpickling (See https://github.com/pytorch/pytorch/blob/main/SECURITY.md#untrusted-models for more details). In a future release, the default value for `weights_only` will be flipped to `True`. This limits the functions that could be executed during unpickling. Arbitrary objects will no longer be allowed to be loaded via this mode unless they are explicitly allowlisted by the user via `torch.serialization.add_safe_globals`. We recommend you start setting `weights_only=True` for any use case where you don't have full control of the loaded file. Please open an issue on GitHub for any issues related to this experimental feature.\n",
      "  model.load_state_dict(torch.load(\"cnn_snn_model.pth\", map_location=device))\n"
     ]
    }
   ],
   "source": [
    "import torch\n",
    "import torch.nn as nn\n",
    "import torchvision.models as models\n",
    "import norse.torch as norse  # For SNN layers\n",
    "\n",
    "# Ensure device is set\n",
    "device = torch.device(\"cuda\" if torch.cuda.is_available() else \"cpu\")\n",
    "\n",
    "# Redefine the model structure\n",
    "class CNN_SNN_Model(nn.Module):\n",
    "    def __init__(self):\n",
    "        super(CNN_SNN_Model, self).__init__()\n",
    "\n",
    "        # CNN Feature Extractor\n",
    "        resnet = models.resnet18(pretrained=True)\n",
    "        self.cnn = nn.Sequential(*list(resnet.children())[:-1])  \n",
    "\n",
    "        # SNN Layer (Spiking Neurons for Temporal Processing)\n",
    "        self.snn = norse.LIFRecurrentCell(512, 256)  \n",
    "\n",
    "        # Fully Connected Classifier\n",
    "        self.fc = nn.Linear(256, 1)  \n",
    "\n",
    "    def forward(self, x):\n",
    "        batch_size, T, C, H, W = x.shape  \n",
    "        x = x.view(-1, C, H, W)  # Flatten batch & time for CNN input\n",
    "        x = self.cnn(x)  \n",
    "        x = x.view(batch_size, T, -1)  \n",
    "\n",
    "        # Pass each time step through SNN\n",
    "        snn_out = []\n",
    "        state = None\n",
    "        for t in range(T):\n",
    "            out, state = self.snn(x[:, t, :], state)\n",
    "            snn_out.append(out)\n",
    "\n",
    "        x = torch.stack(snn_out, dim=1)  \n",
    "        x = x.mean(dim=1)  \n",
    "        x = self.fc(x)  \n",
    "        return torch.sigmoid(x)  # Binary classification\n",
    "\n",
    "# Instantiate the model\n",
    "model = CNN_SNN_Model().to(device)\n",
    "\n",
    "# Now load the trained model weights\n",
    "model.load_state_dict(torch.load(\"cnn_snn_model.pth\", map_location=device))\n",
    "model.to(device)\n",
    "model.eval()\n",
    "\n",
    "print(\"✅ Model Loaded Successfully! Ready for Inference.\")\n"
   ]
  },
  {
   "cell_type": "code",
   "execution_count": 4,
   "metadata": {},
   "outputs": [
    {
     "name": "stdout",
     "output_type": "stream",
     "text": [
      "🚨 Prediction: Anomaly (Confidence: 0.9993)\n"
     ]
    }
   ],
   "source": [
    "import cv2\n",
    "import torch\n",
    "import numpy as np\n",
    "import torchvision.transforms as transforms\n",
    "\n",
    "# Define the same transformations used during training\n",
    "transform = transforms.Compose([\n",
    "    transforms.ToPILImage(),\n",
    "    transforms.Resize((224, 224)),  # Resize to match model input\n",
    "    transforms.ToTensor(),\n",
    "    transforms.Normalize(mean=[0.5], std=[0.5])  # Normalize\n",
    "])\n",
    "\n",
    "# Function to Predict Anomalies in New Videos\n",
    "def predict_anomaly(video_path, model, device):\n",
    "    cap = cv2.VideoCapture(video_path)\n",
    "    frames = []\n",
    "    \n",
    "    while cap.isOpened():\n",
    "        ret, frame = cap.read()\n",
    "        if not ret:\n",
    "            break\n",
    "\n",
    "        frame = cv2.cvtColor(frame, cv2.COLOR_BGR2RGB)  # Convert BGR to RGB\n",
    "        frame = transform(frame)  # Apply transformations\n",
    "        frames.append(frame)\n",
    "\n",
    "    cap.release()\n",
    "\n",
    "    if len(frames) == 0:\n",
    "        print(\"⚠ No frames extracted from the video! Check the file format or path.\")\n",
    "        return\n",
    "\n",
    "    # Convert frames list to Tensor format (T, C, H, W)\n",
    "    video_tensor = torch.stack(frames).unsqueeze(0).to(device)  # Add batch dimension\n",
    "\n",
    "    # Run inference\n",
    "    model.eval()\n",
    "    with torch.no_grad():\n",
    "        output = model(video_tensor)\n",
    "        prediction = \"Anomaly\" if output.item() > 0.5 else \"Normal\"\n",
    "\n",
    "    print(f\"🚨 Prediction: {prediction} (Confidence: {output.item():.4f})\")\n",
    "\n",
    "# Test with a new video\n",
    "predict_anomaly(r\"D:\\DB\\Recording 2025-01-21 172723.mp4\", model, device)\n"
   ]
  },
  {
   "cell_type": "code",
   "execution_count": null,
   "metadata": {},
   "outputs": [],
   "source": []
  }
 ],
 "metadata": {
  "kernelspec": {
   "display_name": "Python 3",
   "language": "python",
   "name": "python3"
  },
  "language_info": {
   "codemirror_mode": {
    "name": "ipython",
    "version": 3
   },
   "file_extension": ".py",
   "mimetype": "text/x-python",
   "name": "python",
   "nbconvert_exporter": "python",
   "pygments_lexer": "ipython3",
   "version": "3.11.8"
  }
 },
 "nbformat": 4,
 "nbformat_minor": 2
}
